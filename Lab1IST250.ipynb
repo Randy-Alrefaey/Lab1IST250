{
  "nbformat": 4,
  "nbformat_minor": 0,
  "metadata": {
    "colab": {
      "name": "Lab1IST250.ipynb",
      "provenance": [],
      "collapsed_sections": [],
      "authorship_tag": "ABX9TyOH8GNANjNe+/w+9/zk/io6",
      "include_colab_link": true
    },
    "kernelspec": {
      "name": "python3",
      "display_name": "Python 3"
    }
  },
  "cells": [
    {
      "cell_type": "markdown",
      "metadata": {
        "id": "view-in-github",
        "colab_type": "text"
      },
      "source": [
        "<a href=\"https://colab.research.google.com/github/Randy-Alrefaey/Lab1IST250/blob/master/Lab1IST250.ipynb\" target=\"_parent\"><img src=\"https://colab.research.google.com/assets/colab-badge.svg\" alt=\"Open In Colab\"/></a>"
      ]
    },
    {
      "cell_type": "markdown",
      "metadata": {
        "id": "n9erduYW4ETU",
        "colab_type": "text"
      },
      "source": [
        "## Do you like Jupyter Notebooks?"
      ]
    },
    {
      "cell_type": "markdown",
      "metadata": {
        "id": "yFifrHSW4VBi",
        "colab_type": "text"
      },
      "source": [
        "I am still trying to get the hang of it, but it seems straightforward enough. WIth more time and practice I will surely get better."
      ]
    },
    {
      "cell_type": "markdown",
      "metadata": {
        "id": "jwkRPCZX4rbr",
        "colab_type": "text"
      },
      "source": [
        "## What do you want to learn more about in Jupyter Notebooks?"
      ]
    },
    {
      "cell_type": "markdown",
      "metadata": {
        "id": "bxFpHMnB4xP_",
        "colab_type": "text"
      },
      "source": [
        "I want to learn about all the functions that Jupyter can carry out. I also want to know which websites currently use Jupyter Notebooks."
      ]
    },
    {
      "cell_type": "markdown",
      "metadata": {
        "id": "pgop22ia6FtF",
        "colab_type": "text"
      },
      "source": [
        "![Lightning in Sky](https://raw.githubusercontent.com/Randy-Alrefaey/Lab1IST250/master/ImagesIST250/LightningLab1.jpeg)"
      ]
    }
  ]
}