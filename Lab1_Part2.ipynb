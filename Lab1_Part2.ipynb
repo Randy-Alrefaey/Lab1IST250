{
  "nbformat": 4,
  "nbformat_minor": 0,
  "metadata": {
    "colab": {
      "name": "Lab1_Part2",
      "provenance": [],
      "collapsed_sections": [],
      "authorship_tag": "ABX9TyODKJfY9f6+M2TN5340LNS7",
      "include_colab_link": true
    },
    "kernelspec": {
      "name": "python3",
      "display_name": "Python 3"
    }
  },
  "cells": [
    {
      "cell_type": "markdown",
      "metadata": {
        "id": "view-in-github",
        "colab_type": "text"
      },
      "source": [
        "<a href=\"https://colab.research.google.com/github/Randy-Alrefaey/Lab1IST250/blob/master/Lab1_Part2.ipynb\" target=\"_parent\"><img src=\"https://colab.research.google.com/assets/colab-badge.svg\" alt=\"Open In Colab\"/></a>"
      ]
    },
    {
      "cell_type": "code",
      "metadata": {
        "id": "ys8nKvj8CPka",
        "colab_type": "code",
        "colab": {
          "base_uri": "https://localhost:8080/",
          "height": 773
        },
        "outputId": "086d5ecb-ae23-4065-d01d-ea915483ed28"
      },
      "source": [
        "!pip install datascience"
      ],
      "execution_count": null,
      "outputs": [
        {
          "output_type": "stream",
          "text": [
            "Requirement already satisfied: datascience in /usr/local/lib/python3.6/dist-packages (0.10.6)\n",
            "Requirement already satisfied: pytest in /usr/local/lib/python3.6/dist-packages (from datascience) (3.6.4)\n",
            "Requirement already satisfied: setuptools in /usr/local/lib/python3.6/dist-packages (from datascience) (49.6.0)\n",
            "Collecting folium==0.2.1\n",
            "\u001b[?25l  Downloading https://files.pythonhosted.org/packages/72/dd/75ced7437bfa7cb9a88b96ee0177953062803c3b4cde411a97d98c35adaf/folium-0.2.1.tar.gz (69kB)\n",
            "\u001b[K     |████████████████████████████████| 71kB 2.9MB/s \n",
            "\u001b[?25hRequirement already satisfied: coverage==3.7.1 in /usr/local/lib/python3.6/dist-packages (from datascience) (3.7.1)\n",
            "Requirement already satisfied: coveralls==0.5 in /usr/local/lib/python3.6/dist-packages (from datascience) (0.5)\n",
            "Requirement already satisfied: sphinx in /usr/local/lib/python3.6/dist-packages (from datascience) (1.8.5)\n",
            "Requirement already satisfied: py>=1.5.0 in /usr/local/lib/python3.6/dist-packages (from pytest->datascience) (1.9.0)\n",
            "Requirement already satisfied: pluggy<0.8,>=0.5 in /usr/local/lib/python3.6/dist-packages (from pytest->datascience) (0.7.1)\n",
            "Requirement already satisfied: atomicwrites>=1.0 in /usr/local/lib/python3.6/dist-packages (from pytest->datascience) (1.4.0)\n",
            "Requirement already satisfied: attrs>=17.4.0 in /usr/local/lib/python3.6/dist-packages (from pytest->datascience) (20.1.0)\n",
            "Requirement already satisfied: six>=1.10.0 in /usr/local/lib/python3.6/dist-packages (from pytest->datascience) (1.15.0)\n",
            "Requirement already satisfied: more-itertools>=4.0.0 in /usr/local/lib/python3.6/dist-packages (from pytest->datascience) (8.4.0)\n",
            "Requirement already satisfied: Jinja2 in /usr/local/lib/python3.6/dist-packages (from folium==0.2.1->datascience) (2.11.2)\n",
            "Requirement already satisfied: requests>=1.0.0 in /usr/local/lib/python3.6/dist-packages (from coveralls==0.5->datascience) (2.23.0)\n",
            "Requirement already satisfied: docopt>=0.6.1 in /usr/local/lib/python3.6/dist-packages (from coveralls==0.5->datascience) (0.6.2)\n",
            "Requirement already satisfied: PyYAML>=3.10 in /usr/local/lib/python3.6/dist-packages (from coveralls==0.5->datascience) (3.13)\n",
            "Requirement already satisfied: imagesize in /usr/local/lib/python3.6/dist-packages (from sphinx->datascience) (1.2.0)\n",
            "Requirement already satisfied: babel!=2.0,>=1.3 in /usr/local/lib/python3.6/dist-packages (from sphinx->datascience) (2.8.0)\n",
            "Requirement already satisfied: docutils>=0.11 in /usr/local/lib/python3.6/dist-packages (from sphinx->datascience) (0.15.2)\n",
            "Requirement already satisfied: sphinxcontrib-websupport in /usr/local/lib/python3.6/dist-packages (from sphinx->datascience) (1.2.4)\n",
            "Requirement already satisfied: snowballstemmer>=1.1 in /usr/local/lib/python3.6/dist-packages (from sphinx->datascience) (2.0.0)\n",
            "Requirement already satisfied: packaging in /usr/local/lib/python3.6/dist-packages (from sphinx->datascience) (20.4)\n",
            "Requirement already satisfied: alabaster<0.8,>=0.7 in /usr/local/lib/python3.6/dist-packages (from sphinx->datascience) (0.7.12)\n",
            "Requirement already satisfied: Pygments>=2.0 in /usr/local/lib/python3.6/dist-packages (from sphinx->datascience) (2.1.3)\n",
            "Requirement already satisfied: MarkupSafe>=0.23 in /usr/local/lib/python3.6/dist-packages (from Jinja2->folium==0.2.1->datascience) (1.1.1)\n",
            "Requirement already satisfied: idna<3,>=2.5 in /usr/local/lib/python3.6/dist-packages (from requests>=1.0.0->coveralls==0.5->datascience) (2.10)\n",
            "Requirement already satisfied: certifi>=2017.4.17 in /usr/local/lib/python3.6/dist-packages (from requests>=1.0.0->coveralls==0.5->datascience) (2020.6.20)\n",
            "Requirement already satisfied: urllib3!=1.25.0,!=1.25.1,<1.26,>=1.21.1 in /usr/local/lib/python3.6/dist-packages (from requests>=1.0.0->coveralls==0.5->datascience) (1.24.3)\n",
            "Requirement already satisfied: chardet<4,>=3.0.2 in /usr/local/lib/python3.6/dist-packages (from requests>=1.0.0->coveralls==0.5->datascience) (3.0.4)\n",
            "Requirement already satisfied: pytz>=2015.7 in /usr/local/lib/python3.6/dist-packages (from babel!=2.0,>=1.3->sphinx->datascience) (2018.9)\n",
            "Requirement already satisfied: sphinxcontrib-serializinghtml in /usr/local/lib/python3.6/dist-packages (from sphinxcontrib-websupport->sphinx->datascience) (1.1.4)\n",
            "Requirement already satisfied: pyparsing>=2.0.2 in /usr/local/lib/python3.6/dist-packages (from packaging->sphinx->datascience) (2.4.7)\n",
            "Building wheels for collected packages: folium\n",
            "  Building wheel for folium (setup.py) ... \u001b[?25l\u001b[?25hdone\n",
            "  Created wheel for folium: filename=folium-0.2.1-cp36-none-any.whl size=79980 sha256=7380a6b0c603f9f5ea45cfe44bebb641d167a9b34e5523e382f014d46df882a3\n",
            "  Stored in directory: /root/.cache/pip/wheels/b8/09/f0/52d2ef419c2aaf4fb149f92a33e0008bdce7ae816f0dd8f0c5\n",
            "Successfully built folium\n",
            "Installing collected packages: folium\n",
            "  Found existing installation: folium 0.8.3\n",
            "    Uninstalling folium-0.8.3:\n",
            "      Successfully uninstalled folium-0.8.3\n",
            "Successfully installed folium-0.2.1\n"
          ],
          "name": "stdout"
        }
      ]
    },
    {
      "cell_type": "code",
      "metadata": {
        "id": "gAb5fO7zCpEY",
        "colab_type": "code",
        "colab": {
          "base_uri": "https://localhost:8080/",
          "height": 104
        },
        "outputId": "b92bf3c7-be22-4ac0-cc03-4da182d08faa"
      },
      "source": [
        "from datascience import *"
      ],
      "execution_count": null,
      "outputs": [
        {
          "output_type": "stream",
          "text": [
            "/usr/local/lib/python3.6/dist-packages/datascience/tables.py:17: MatplotlibDeprecationWarning: The 'warn' parameter of use() is deprecated since Matplotlib 3.1 and will be removed in 3.3.  If any parameter follows 'warn', they should be pass as keyword, not positionally.\n",
            "  matplotlib.use('agg', warn=False)\n",
            "/usr/local/lib/python3.6/dist-packages/datascience/util.py:10: MatplotlibDeprecationWarning: The 'warn' parameter of use() is deprecated since Matplotlib 3.1 and will be removed in 3.3.  If any parameter follows 'warn', they should be pass as keyword, not positionally.\n",
            "  matplotlib.use('agg', warn=False)\n"
          ],
          "name": "stderr"
        }
      ]
    },
    {
      "cell_type": "code",
      "metadata": {
        "id": "fpKmyVRYCvqM",
        "colab_type": "code",
        "colab": {
          "base_uri": "https://localhost:8080/",
          "height": 34
        },
        "outputId": "38c1bb07-ac68-4a52-c994-1574e6f3dc86"
      },
      "source": [
        "!ls"
      ],
      "execution_count": null,
      "outputs": [
        {
          "output_type": "stream",
          "text": [
            "sample_data\n"
          ],
          "name": "stdout"
        }
      ]
    },
    {
      "cell_type": "code",
      "metadata": {
        "id": "77S6WcdICyWN",
        "colab_type": "code",
        "colab": {
          "base_uri": "https://localhost:8080/",
          "height": 121
        },
        "outputId": "9fdbaae7-1c36-4091-de7b-fae7622f201e"
      },
      "source": [
        "from google.colab import drive\n",
        "drive.mount('/content/drive')"
      ],
      "execution_count": null,
      "outputs": [
        {
          "output_type": "stream",
          "text": [
            "Go to this URL in a browser: https://accounts.google.com/o/oauth2/auth?client_id=947318989803-6bn6qk8qdgf4n4g3pfee6491hc0brc4i.apps.googleusercontent.com&redirect_uri=urn%3aietf%3awg%3aoauth%3a2.0%3aoob&scope=email%20https%3a%2f%2fwww.googleapis.com%2fauth%2fdocs.test%20https%3a%2f%2fwww.googleapis.com%2fauth%2fdrive%20https%3a%2f%2fwww.googleapis.com%2fauth%2fdrive.photos.readonly%20https%3a%2f%2fwww.googleapis.com%2fauth%2fpeopleapi.readonly&response_type=code\n",
            "\n",
            "Enter your authorization code:\n",
            "4/3wHQZdZwcYfjo4DKHdmq-9J8shyvmXxnZ8PVQUwTEtIMj4SfXOd3dp8\n",
            "Mounted at /content/drive\n"
          ],
          "name": "stdout"
        }
      ]
    },
    {
      "cell_type": "code",
      "metadata": {
        "id": "fQwWeWISC-my",
        "colab_type": "code",
        "colab": {
          "base_uri": "https://localhost:8080/",
          "height": 34
        },
        "outputId": "74c0b994-1fa6-42d8-fdf6-ad0020ace1c6"
      },
      "source": [
        "!ls"
      ],
      "execution_count": null,
      "outputs": [
        {
          "output_type": "stream",
          "text": [
            "drive  sample_data\n"
          ],
          "name": "stdout"
        }
      ]
    },
    {
      "cell_type": "code",
      "metadata": {
        "id": "wNhFDwrcDALC",
        "colab_type": "code",
        "colab": {
          "base_uri": "https://localhost:8080/",
          "height": 34
        },
        "outputId": "9c50cd1e-10f0-4ff2-a9f0-3a79349dbc1f"
      },
      "source": [
        "!ls drive"
      ],
      "execution_count": null,
      "outputs": [
        {
          "output_type": "stream",
          "text": [
            "'My Drive'\n"
          ],
          "name": "stdout"
        }
      ]
    },
    {
      "cell_type": "code",
      "metadata": {
        "id": "gwnZU0FGDFia",
        "colab_type": "code",
        "colab": {
          "base_uri": "https://localhost:8080/",
          "height": 34
        },
        "outputId": "642a317a-d7f8-45bc-bfb0-db92c7e3d177"
      },
      "source": [
        "!ls drive/'My Drive'"
      ],
      "execution_count": null,
      "outputs": [
        {
          "output_type": "stream",
          "text": [
            "'Colab Notebooks'   DSO  'Secret History of Hackers Quotes.gdoc'\n"
          ],
          "name": "stdout"
        }
      ]
    },
    {
      "cell_type": "code",
      "metadata": {
        "id": "CSFzZkLMDKTC",
        "colab_type": "code",
        "colab": {
          "base_uri": "https://localhost:8080/",
          "height": 34
        },
        "outputId": "25e6f1e5-096e-4306-c58a-65fe6c3fd7c8"
      },
      "source": [
        "!ls drive/'My Drive'/DSO"
      ],
      "execution_count": null,
      "outputs": [
        {
          "output_type": "stream",
          "text": [
            "IMDB5000movies.csv  SFSalaries2011_2014.csv\n"
          ],
          "name": "stdout"
        }
      ]
    },
    {
      "cell_type": "code",
      "metadata": {
        "id": "vmKcCcd3DRfQ",
        "colab_type": "code",
        "colab": {}
      },
      "source": [
        "path= \"/content/drive/My Drive/DSO/SFSalaries2011_2014.csv\""
      ],
      "execution_count": null,
      "outputs": []
    },
    {
      "cell_type": "code",
      "metadata": {
        "id": "uwy9R9YBDbdN",
        "colab_type": "code",
        "colab": {
          "base_uri": "https://localhost:8080/",
          "height": 35
        },
        "outputId": "d04cb4c6-6ab1-4092-969d-c11523ec0fdc"
      },
      "source": [
        "path"
      ],
      "execution_count": null,
      "outputs": [
        {
          "output_type": "execute_result",
          "data": {
            "application/vnd.google.colaboratory.intrinsic+json": {
              "type": "string"
            },
            "text/plain": [
              "'/content/drive/My Drive/DSO/SFSalaries2011_2014.csv'"
            ]
          },
          "metadata": {
            "tags": []
          },
          "execution_count": 12
        }
      ]
    },
    {
      "cell_type": "code",
      "metadata": {
        "id": "VPykqaBdDlSI",
        "colab_type": "code",
        "colab": {
          "base_uri": "https://localhost:8080/",
          "height": 70
        },
        "outputId": "262ad002-2632-4d87-efa3-5127574cd0f2"
      },
      "source": [
        "Money=Table.read_table(path)"
      ],
      "execution_count": null,
      "outputs": [
        {
          "output_type": "stream",
          "text": [
            "/usr/local/lib/python3.6/dist-packages/IPython/core/interactiveshell.py:2822: DtypeWarning: Columns (3,4,5,6,12) have mixed types.Specify dtype option on import or set low_memory=False.\n",
            "  if self.run_code(code, result):\n"
          ],
          "name": "stderr"
        }
      ]
    },
    {
      "cell_type": "code",
      "metadata": {
        "id": "8jESiU2FDwIz",
        "colab_type": "code",
        "colab": {
          "base_uri": "https://localhost:8080/",
          "height": 540
        },
        "outputId": "729355ec-0dab-479e-c587-65bd9f885757"
      },
      "source": [
        "Money"
      ],
      "execution_count": null,
      "outputs": [
        {
          "output_type": "execute_result",
          "data": {
            "text/html": [
              "<table border=\"1\" class=\"dataframe\">\n",
              "    <thead>\n",
              "        <tr>\n",
              "            <th>Id</th> <th>EmployeeName</th> <th>JobTitle</th> <th>BasePay</th> <th>OvertimePay</th> <th>OtherPay</th> <th>Benefits</th> <th>TotalPay</th> <th>TotalPayBenefits</th> <th>Year</th> <th>Notes</th> <th>Agency</th> <th>Status</th>\n",
              "        </tr>\n",
              "    </thead>\n",
              "    <tbody>\n",
              "        <tr>\n",
              "            <td>1   </td> <td>NATHANIEL FORD    </td> <td>GENERAL MANAGER-METROPOLITAN TRANSIT AUTHORITY</td> <td>167411.18</td> <td>0.0        </td> <td>400184.25</td> <td>nan     </td> <td>567595  </td> <td>567595          </td> <td>2011</td> <td>nan  </td> <td>San Francisco</td> <td>nan   </td>\n",
              "        </tr>\n",
              "        <tr>\n",
              "            <td>2   </td> <td>GARY JIMENEZ      </td> <td>CAPTAIN III (POLICE DEPARTMENT)               </td> <td>155966.02</td> <td>245131.88  </td> <td>137811.38</td> <td>nan     </td> <td>538909  </td> <td>538909          </td> <td>2011</td> <td>nan  </td> <td>San Francisco</td> <td>nan   </td>\n",
              "        </tr>\n",
              "        <tr>\n",
              "            <td>3   </td> <td>ALBERT PARDINI    </td> <td>CAPTAIN III (POLICE DEPARTMENT)               </td> <td>212739.13</td> <td>106088.18  </td> <td>16452.6  </td> <td>nan     </td> <td>335280  </td> <td>335280          </td> <td>2011</td> <td>nan  </td> <td>San Francisco</td> <td>nan   </td>\n",
              "        </tr>\n",
              "        <tr>\n",
              "            <td>4   </td> <td>CHRISTOPHER CHONG </td> <td>WIRE ROPE CABLE MAINTENANCE MECHANIC          </td> <td>77916.0  </td> <td>56120.71   </td> <td>198306.9 </td> <td>nan     </td> <td>332344  </td> <td>332344          </td> <td>2011</td> <td>nan  </td> <td>San Francisco</td> <td>nan   </td>\n",
              "        </tr>\n",
              "        <tr>\n",
              "            <td>5   </td> <td>PATRICK GARDNER   </td> <td>DEPUTY CHIEF OF DEPARTMENT,(FIRE DEPARTMENT)  </td> <td>134401.6 </td> <td>9737.0     </td> <td>182234.59</td> <td>nan     </td> <td>326373  </td> <td>326373          </td> <td>2011</td> <td>nan  </td> <td>San Francisco</td> <td>nan   </td>\n",
              "        </tr>\n",
              "        <tr>\n",
              "            <td>6   </td> <td>DAVID SULLIVAN    </td> <td>ASSISTANT DEPUTY CHIEF II                     </td> <td>118602.0 </td> <td>8601.0     </td> <td>189082.74</td> <td>nan     </td> <td>316286  </td> <td>316286          </td> <td>2011</td> <td>nan  </td> <td>San Francisco</td> <td>nan   </td>\n",
              "        </tr>\n",
              "        <tr>\n",
              "            <td>7   </td> <td>ALSON LEE         </td> <td>BATTALION CHIEF, (FIRE DEPARTMENT)            </td> <td>92492.01 </td> <td>89062.9    </td> <td>134426.14</td> <td>nan     </td> <td>315981  </td> <td>315981          </td> <td>2011</td> <td>nan  </td> <td>San Francisco</td> <td>nan   </td>\n",
              "        </tr>\n",
              "        <tr>\n",
              "            <td>8   </td> <td>DAVID KUSHNER     </td> <td>DEPUTY DIRECTOR OF INVESTMENTS                </td> <td>256576.96</td> <td>0.0        </td> <td>51322.5  </td> <td>nan     </td> <td>307899  </td> <td>307899          </td> <td>2011</td> <td>nan  </td> <td>San Francisco</td> <td>nan   </td>\n",
              "        </tr>\n",
              "        <tr>\n",
              "            <td>9   </td> <td>MICHAEL MORRIS    </td> <td>BATTALION CHIEF, (FIRE DEPARTMENT)            </td> <td>176932.64</td> <td>86362.68   </td> <td>40132.23 </td> <td>nan     </td> <td>303428  </td> <td>303428          </td> <td>2011</td> <td>nan  </td> <td>San Francisco</td> <td>nan   </td>\n",
              "        </tr>\n",
              "        <tr>\n",
              "            <td>10  </td> <td>JOANNE HAYES-WHITE</td> <td>CHIEF OF DEPARTMENT, (FIRE DEPARTMENT)        </td> <td>285262.0 </td> <td>0.0        </td> <td>17115.73 </td> <td>nan     </td> <td>302378  </td> <td>302378          </td> <td>2011</td> <td>nan  </td> <td>San Francisco</td> <td>nan   </td>\n",
              "        </tr>\n",
              "    </tbody>\n",
              "</table>\n",
              "<p>... (148644 rows omitted)</p>"
            ],
            "text/plain": [
              "Id   | EmployeeName       | JobTitle                                       | BasePay   | OvertimePay | OtherPay  | Benefits | TotalPay | TotalPayBenefits | Year | Notes | Agency        | Status\n",
              "1    | NATHANIEL FORD     | GENERAL MANAGER-METROPOLITAN TRANSIT AUTHORITY | 167411.18 | 0.0         | 400184.25 | nan      | 567595   | 567595           | 2011 | nan   | San Francisco | nan\n",
              "2    | GARY JIMENEZ       | CAPTAIN III (POLICE DEPARTMENT)                | 155966.02 | 245131.88   | 137811.38 | nan      | 538909   | 538909           | 2011 | nan   | San Francisco | nan\n",
              "3    | ALBERT PARDINI     | CAPTAIN III (POLICE DEPARTMENT)                | 212739.13 | 106088.18   | 16452.6   | nan      | 335280   | 335280           | 2011 | nan   | San Francisco | nan\n",
              "4    | CHRISTOPHER CHONG  | WIRE ROPE CABLE MAINTENANCE MECHANIC           | 77916.0   | 56120.71    | 198306.9  | nan      | 332344   | 332344           | 2011 | nan   | San Francisco | nan\n",
              "5    | PATRICK GARDNER    | DEPUTY CHIEF OF DEPARTMENT,(FIRE DEPARTMENT)   | 134401.6  | 9737.0      | 182234.59 | nan      | 326373   | 326373           | 2011 | nan   | San Francisco | nan\n",
              "6    | DAVID SULLIVAN     | ASSISTANT DEPUTY CHIEF II                      | 118602.0  | 8601.0      | 189082.74 | nan      | 316286   | 316286           | 2011 | nan   | San Francisco | nan\n",
              "7    | ALSON LEE          | BATTALION CHIEF, (FIRE DEPARTMENT)             | 92492.01  | 89062.9     | 134426.14 | nan      | 315981   | 315981           | 2011 | nan   | San Francisco | nan\n",
              "8    | DAVID KUSHNER      | DEPUTY DIRECTOR OF INVESTMENTS                 | 256576.96 | 0.0         | 51322.5   | nan      | 307899   | 307899           | 2011 | nan   | San Francisco | nan\n",
              "9    | MICHAEL MORRIS     | BATTALION CHIEF, (FIRE DEPARTMENT)             | 176932.64 | 86362.68    | 40132.23  | nan      | 303428   | 303428           | 2011 | nan   | San Francisco | nan\n",
              "10   | JOANNE HAYES-WHITE | CHIEF OF DEPARTMENT, (FIRE DEPARTMENT)         | 285262.0  | 0.0         | 17115.73  | nan      | 302378   | 302378           | 2011 | nan   | San Francisco | nan\n",
              "... (148644 rows omitted)"
            ]
          },
          "metadata": {
            "tags": []
          },
          "execution_count": 14
        }
      ]
    },
    {
      "cell_type": "code",
      "metadata": {
        "id": "gzGfromAEKek",
        "colab_type": "code",
        "colab": {
          "base_uri": "https://localhost:8080/",
          "height": 34
        },
        "outputId": "d716245a-8709-47c9-8e89-c8a190d083a3"
      },
      "source": [
        "type (Money)"
      ],
      "execution_count": null,
      "outputs": [
        {
          "output_type": "execute_result",
          "data": {
            "text/plain": [
              "datascience.tables.Table"
            ]
          },
          "metadata": {
            "tags": []
          },
          "execution_count": 15
        }
      ]
    },
    {
      "cell_type": "code",
      "metadata": {
        "id": "HhHNuNIAENUt",
        "colab_type": "code",
        "colab": {
          "base_uri": "https://localhost:8080/",
          "height": 1000
        },
        "outputId": "de25e2fe-38ed-47e8-c8aa-6307c6b8b0ae"
      },
      "source": [
        "Money.show(50)"
      ],
      "execution_count": null,
      "outputs": [
        {
          "output_type": "display_data",
          "data": {
            "text/html": [
              "<table border=\"1\" class=\"dataframe\">\n",
              "    <thead>\n",
              "        <tr>\n",
              "            <th>Id</th> <th>EmployeeName</th> <th>JobTitle</th> <th>BasePay</th> <th>OvertimePay</th> <th>OtherPay</th> <th>Benefits</th> <th>TotalPay</th> <th>TotalPayBenefits</th> <th>Year</th> <th>Notes</th> <th>Agency</th> <th>Status</th>\n",
              "        </tr>\n",
              "    </thead>\n",
              "    <tbody>\n",
              "        <tr>\n",
              "            <td>1   </td> <td>NATHANIEL FORD      </td> <td>GENERAL MANAGER-METROPOLITAN TRANSIT AUTHORITY  </td> <td>167411.18</td> <td>0.0        </td> <td>400184.25</td> <td>nan     </td> <td>567595  </td> <td>567595          </td> <td>2011</td> <td>nan  </td> <td>San Francisco</td> <td>nan   </td>\n",
              "        </tr>\n",
              "        <tr>\n",
              "            <td>2   </td> <td>GARY JIMENEZ        </td> <td>CAPTAIN III (POLICE DEPARTMENT)                 </td> <td>155966.02</td> <td>245131.88  </td> <td>137811.38</td> <td>nan     </td> <td>538909  </td> <td>538909          </td> <td>2011</td> <td>nan  </td> <td>San Francisco</td> <td>nan   </td>\n",
              "        </tr>\n",
              "        <tr>\n",
              "            <td>3   </td> <td>ALBERT PARDINI      </td> <td>CAPTAIN III (POLICE DEPARTMENT)                 </td> <td>212739.13</td> <td>106088.18  </td> <td>16452.6  </td> <td>nan     </td> <td>335280  </td> <td>335280          </td> <td>2011</td> <td>nan  </td> <td>San Francisco</td> <td>nan   </td>\n",
              "        </tr>\n",
              "        <tr>\n",
              "            <td>4   </td> <td>CHRISTOPHER CHONG   </td> <td>WIRE ROPE CABLE MAINTENANCE MECHANIC            </td> <td>77916.0  </td> <td>56120.71   </td> <td>198306.9 </td> <td>nan     </td> <td>332344  </td> <td>332344          </td> <td>2011</td> <td>nan  </td> <td>San Francisco</td> <td>nan   </td>\n",
              "        </tr>\n",
              "        <tr>\n",
              "            <td>5   </td> <td>PATRICK GARDNER     </td> <td>DEPUTY CHIEF OF DEPARTMENT,(FIRE DEPARTMENT)    </td> <td>134401.6 </td> <td>9737.0     </td> <td>182234.59</td> <td>nan     </td> <td>326373  </td> <td>326373          </td> <td>2011</td> <td>nan  </td> <td>San Francisco</td> <td>nan   </td>\n",
              "        </tr>\n",
              "        <tr>\n",
              "            <td>6   </td> <td>DAVID SULLIVAN      </td> <td>ASSISTANT DEPUTY CHIEF II                       </td> <td>118602.0 </td> <td>8601.0     </td> <td>189082.74</td> <td>nan     </td> <td>316286  </td> <td>316286          </td> <td>2011</td> <td>nan  </td> <td>San Francisco</td> <td>nan   </td>\n",
              "        </tr>\n",
              "        <tr>\n",
              "            <td>7   </td> <td>ALSON LEE           </td> <td>BATTALION CHIEF, (FIRE DEPARTMENT)              </td> <td>92492.01 </td> <td>89062.9    </td> <td>134426.14</td> <td>nan     </td> <td>315981  </td> <td>315981          </td> <td>2011</td> <td>nan  </td> <td>San Francisco</td> <td>nan   </td>\n",
              "        </tr>\n",
              "        <tr>\n",
              "            <td>8   </td> <td>DAVID KUSHNER       </td> <td>DEPUTY DIRECTOR OF INVESTMENTS                  </td> <td>256576.96</td> <td>0.0        </td> <td>51322.5  </td> <td>nan     </td> <td>307899  </td> <td>307899          </td> <td>2011</td> <td>nan  </td> <td>San Francisco</td> <td>nan   </td>\n",
              "        </tr>\n",
              "        <tr>\n",
              "            <td>9   </td> <td>MICHAEL MORRIS      </td> <td>BATTALION CHIEF, (FIRE DEPARTMENT)              </td> <td>176932.64</td> <td>86362.68   </td> <td>40132.23 </td> <td>nan     </td> <td>303428  </td> <td>303428          </td> <td>2011</td> <td>nan  </td> <td>San Francisco</td> <td>nan   </td>\n",
              "        </tr>\n",
              "        <tr>\n",
              "            <td>10  </td> <td>JOANNE HAYES-WHITE  </td> <td>CHIEF OF DEPARTMENT, (FIRE DEPARTMENT)          </td> <td>285262.0 </td> <td>0.0        </td> <td>17115.73 </td> <td>nan     </td> <td>302378  </td> <td>302378          </td> <td>2011</td> <td>nan  </td> <td>San Francisco</td> <td>nan   </td>\n",
              "        </tr>\n",
              "        <tr>\n",
              "            <td>11  </td> <td>ARTHUR KENNEY       </td> <td>ASSISTANT CHIEF OF DEPARTMENT, (FIRE DEPARTMENT)</td> <td>194999.39</td> <td>71344.88   </td> <td>33149.9  </td> <td>nan     </td> <td>299494  </td> <td>299494          </td> <td>2011</td> <td>nan  </td> <td>San Francisco</td> <td>nan   </td>\n",
              "        </tr>\n",
              "        <tr>\n",
              "            <td>12  </td> <td>PATRICIA JACKSON    </td> <td>CAPTAIN III (POLICE DEPARTMENT)                 </td> <td>99722.0  </td> <td>87082.62   </td> <td>110804.3 </td> <td>nan     </td> <td>297609  </td> <td>297609          </td> <td>2011</td> <td>nan  </td> <td>San Francisco</td> <td>nan   </td>\n",
              "        </tr>\n",
              "        <tr>\n",
              "            <td>13  </td> <td>EDWARD HARRINGTON   </td> <td>EXECUTIVE CONTRACT EMPLOYEE                     </td> <td>294580.02</td> <td>0.0        </td> <td>0.0      </td> <td>nan     </td> <td>294580  </td> <td>294580          </td> <td>2011</td> <td>nan  </td> <td>San Francisco</td> <td>nan   </td>\n",
              "        </tr>\n",
              "        <tr>\n",
              "            <td>14  </td> <td>JOHN MARTIN         </td> <td>DEPARTMENT HEAD V                               </td> <td>271329.03</td> <td>0.0        </td> <td>21342.59 </td> <td>nan     </td> <td>292672  </td> <td>292672          </td> <td>2011</td> <td>nan  </td> <td>San Francisco</td> <td>nan   </td>\n",
              "        </tr>\n",
              "        <tr>\n",
              "            <td>15  </td> <td>DAVID FRANKLIN      </td> <td>BATTALION CHIEF, (FIRE DEPARTMENT)              </td> <td>174872.64</td> <td>74050.3    </td> <td>37424.11 </td> <td>nan     </td> <td>286347  </td> <td>286347          </td> <td>2011</td> <td>nan  </td> <td>San Francisco</td> <td>nan   </td>\n",
              "        </tr>\n",
              "        <tr>\n",
              "            <td>16  </td> <td>RICHARD CORRIEA     </td> <td>COMMANDER III, (POLICE DEPARTMENT)              </td> <td>198778.01</td> <td>73478.2    </td> <td>13957.65 </td> <td>nan     </td> <td>286214  </td> <td>286214          </td> <td>2011</td> <td>nan  </td> <td>San Francisco</td> <td>nan   </td>\n",
              "        </tr>\n",
              "        <tr>\n",
              "            <td>17  </td> <td>AMY HART            </td> <td>DEPARTMENT HEAD V                               </td> <td>268604.57</td> <td>0.0        </td> <td>16115.86 </td> <td>nan     </td> <td>284720  </td> <td>284720          </td> <td>2011</td> <td>nan  </td> <td>San Francisco</td> <td>nan   </td>\n",
              "        </tr>\n",
              "        <tr>\n",
              "            <td>18  </td> <td>SEBASTIAN WONG      </td> <td>CAPTAIN, EMERGENCYCY MEDICAL SERVICES           </td> <td>140546.87</td> <td>119397.26  </td> <td>18625.08 </td> <td>nan     </td> <td>278569  </td> <td>278569          </td> <td>2011</td> <td>nan  </td> <td>San Francisco</td> <td>nan   </td>\n",
              "        </tr>\n",
              "        <tr>\n",
              "            <td>19  </td> <td>MARTY ROSS          </td> <td>BATTALION CHIEF, (FIRE DEPARTMENT)              </td> <td>168692.63</td> <td>69626.12   </td> <td>38115.47 </td> <td>nan     </td> <td>276434  </td> <td>276434          </td> <td>2011</td> <td>nan  </td> <td>San Francisco</td> <td>nan   </td>\n",
              "        </tr>\n",
              "        <tr>\n",
              "            <td>20  </td> <td>ELLEN MOFFATT       </td> <td>ASSISTANT MEDICAL EXAMINER                      </td> <td>257510.59</td> <td>880.16     </td> <td>16159.5  </td> <td>nan     </td> <td>274550  </td> <td>274550          </td> <td>2011</td> <td>nan  </td> <td>San Francisco</td> <td>nan   </td>\n",
              "        </tr>\n",
              "        <tr>\n",
              "            <td>21  </td> <td>VENUS AZAR          </td> <td>ASSISTANT MEDICAL EXAMINER                      </td> <td>257510.48</td> <td>0.0        </td> <td>16679.79 </td> <td>nan     </td> <td>274190  </td> <td>274190          </td> <td>2011</td> <td>nan  </td> <td>San Francisco</td> <td>nan   </td>\n",
              "        </tr>\n",
              "        <tr>\n",
              "            <td>22  </td> <td>JUDY MELINEK        </td> <td>ASSISTANT MEDICAL EXAMINER                      </td> <td>257510.44</td> <td>377.21     </td> <td>15883.56 </td> <td>nan     </td> <td>273771  </td> <td>273771          </td> <td>2011</td> <td>nan  </td> <td>San Francisco</td> <td>nan   </td>\n",
              "        </tr>\n",
              "        <tr>\n",
              "            <td>23  </td> <td>GEORGE GARCIA       </td> <td>CAPTAIN, FIRE SUPPRESSION                       </td> <td>140546.88</td> <td>93200.58   </td> <td>39955.25 </td> <td>nan     </td> <td>273703  </td> <td>273703          </td> <td>2011</td> <td>nan  </td> <td>San Francisco</td> <td>nan   </td>\n",
              "        </tr>\n",
              "        <tr>\n",
              "            <td>24  </td> <td>VICTOR WYRSCH       </td> <td>BATTALION CHIEF, (FIRE DEPARTMENT)              </td> <td>168692.63</td> <td>77896.14   </td> <td>24083.86 </td> <td>nan     </td> <td>270673  </td> <td>270673          </td> <td>2011</td> <td>nan  </td> <td>San Francisco</td> <td>nan   </td>\n",
              "        </tr>\n",
              "        <tr>\n",
              "            <td>25  </td> <td>JOSEPH DRISCOLL     </td> <td>CAPTAIN, FIRE SUPPRESSION                       </td> <td>140546.86</td> <td>97868.77   </td> <td>31909.28 </td> <td>nan     </td> <td>270325  </td> <td>270325          </td> <td>2011</td> <td>nan  </td> <td>San Francisco</td> <td>nan   </td>\n",
              "        </tr>\n",
              "        <tr>\n",
              "            <td>26  </td> <td>GREGORY SUHR        </td> <td>CHIEF OF POLICE                                 </td> <td>256470.41</td> <td>0.0        </td> <td>11522.18 </td> <td>nan     </td> <td>267993  </td> <td>267993          </td> <td>2011</td> <td>nan  </td> <td>San Francisco</td> <td>nan   </td>\n",
              "        </tr>\n",
              "        <tr>\n",
              "            <td>27  </td> <td>JOHN HANLEY         </td> <td>CAPTAIN, FIRE SUPPRESSION                       </td> <td>92080.8  </td> <td>40008.0    </td> <td>133695.76</td> <td>nan     </td> <td>265785  </td> <td>265785          </td> <td>2011</td> <td>nan  </td> <td>San Francisco</td> <td>nan   </td>\n",
              "        </tr>\n",
              "        <tr>\n",
              "            <td>28  </td> <td>RAYMOND GUZMAN      </td> <td>BATTALION CHIEF, (FIRE DEPARTMENT)              </td> <td>168692.59</td> <td>80706.88   </td> <td>16063.99 </td> <td>nan     </td> <td>265463  </td> <td>265463          </td> <td>2011</td> <td>nan  </td> <td>San Francisco</td> <td>nan   </td>\n",
              "        </tr>\n",
              "        <tr>\n",
              "            <td>29  </td> <td>DENISE SCHMITT      </td> <td>DEPUTY CHIEF III (POLICE DEPARTMENT)            </td> <td>261717.6 </td> <td>0.0        </td> <td>2357.0   </td> <td>nan     </td> <td>264075  </td> <td>264075          </td> <td>2011</td> <td>nan  </td> <td>San Francisco</td> <td>nan   </td>\n",
              "        </tr>\n",
              "        <tr>\n",
              "            <td>30  </td> <td>MONICA FIELDS       </td> <td>DEPUTY CHIEF OF DEPARTMENT,(FIRE DEPARTMENT)    </td> <td>246225.6 </td> <td>0.0        </td> <td>15140.54 </td> <td>nan     </td> <td>261366  </td> <td>261366          </td> <td>2011</td> <td>nan  </td> <td>San Francisco</td> <td>nan   </td>\n",
              "        </tr>\n",
              "        <tr>\n",
              "            <td>31  </td> <td>HARLAN KELLY-JR     </td> <td>EXECUTIVE CONTRACT EMPLOYEE                     </td> <td>234325.02</td> <td>0.0        </td> <td>25972.64 </td> <td>nan     </td> <td>260298  </td> <td>260298          </td> <td>2011</td> <td>nan  </td> <td>San Francisco</td> <td>nan   </td>\n",
              "        </tr>\n",
              "        <tr>\n",
              "            <td>32  </td> <td>DAVID SHINN         </td> <td>DEPUTY CHIEF III (POLICE DEPARTMENT)            </td> <td>254027.63</td> <td>0.0        </td> <td>5899.48  </td> <td>nan     </td> <td>259927  </td> <td>259927          </td> <td>2011</td> <td>nan  </td> <td>San Francisco</td> <td>nan   </td>\n",
              "        </tr>\n",
              "        <tr>\n",
              "            <td>33  </td> <td>GARY AMELIO         </td> <td>DEPARTMENT HEAD V                               </td> <td>248895.7 </td> <td>0.0        </td> <td>10789.18 </td> <td>nan     </td> <td>259685  </td> <td>259685          </td> <td>2011</td> <td>nan  </td> <td>San Francisco</td> <td>nan   </td>\n",
              "        </tr>\n",
              "        <tr>\n",
              "            <td>34  </td> <td>JOHN TURSI          </td> <td>INSPECTOR III, (POLICE DEPARTMENT)              </td> <td>104861.39</td> <td>50227.61   </td> <td>103499.39</td> <td>nan     </td> <td>258588  </td> <td>258588          </td> <td>2011</td> <td>nan  </td> <td>San Francisco</td> <td>nan   </td>\n",
              "        </tr>\n",
              "        <tr>\n",
              "            <td>35  </td> <td>JOSE VELO           </td> <td>BATTALION CHIEF, (FIRE DEPARTMENT)              </td> <td>177781.25</td> <td>59924.97   </td> <td>20658.0  </td> <td>nan     </td> <td>258364  </td> <td>258364          </td> <td>2011</td> <td>nan  </td> <td>San Francisco</td> <td>nan   </td>\n",
              "        </tr>\n",
              "        <tr>\n",
              "            <td>36  </td> <td>KHOA TRINH          </td> <td>ELECTRONIC MAINTENANCE TECHNICIAN               </td> <td>101953.2 </td> <td>139102.95  </td> <td>16483.94 </td> <td>nan     </td> <td>257540  </td> <td>257540          </td> <td>2011</td> <td>nan  </td> <td>San Francisco</td> <td>nan   </td>\n",
              "        </tr>\n",
              "        <tr>\n",
              "            <td>37  </td> <td>SUSAN CURRIN        </td> <td>ADMINISTRATOR, SFGH MEDICAL CENTER              </td> <td>245124.44</td> <td>0.0        </td> <td>12000.0  </td> <td>nan     </td> <td>257124  </td> <td>257124          </td> <td>2011</td> <td>nan  </td> <td>San Francisco</td> <td>nan   </td>\n",
              "        </tr>\n",
              "        <tr>\n",
              "            <td>38  </td> <td>JAMES BOSCH         </td> <td>INSPECTOR III, (POLICE DEPARTMENT)              </td> <td>110661.2 </td> <td>31162.04   </td> <td>111446.2 </td> <td>nan     </td> <td>253269  </td> <td>253269          </td> <td>2011</td> <td>nan  </td> <td>San Francisco</td> <td>nan   </td>\n",
              "        </tr>\n",
              "        <tr>\n",
              "            <td>39  </td> <td>JONES WONG          </td> <td>LIEUTENANT III (POLICE DEPARTMENT)              </td> <td>132202.26</td> <td>52648.92   </td> <td>67083.83 </td> <td>nan     </td> <td>251935  </td> <td>251935          </td> <td>2011</td> <td>nan  </td> <td>San Francisco</td> <td>nan   </td>\n",
              "        </tr>\n",
              "        <tr>\n",
              "            <td>40  </td> <td>BRENDAN WARD        </td> <td>BATTALION CHIEF, (FIRE DEPARTMENT)              </td> <td>147158.85</td> <td>64985.85   </td> <td>39540.46 </td> <td>nan     </td> <td>251685  </td> <td>251685          </td> <td>2011</td> <td>nan  </td> <td>San Francisco</td> <td>nan   </td>\n",
              "        </tr>\n",
              "        <tr>\n",
              "            <td>41  </td> <td>MICHAEL THOMPSON    </td> <td>BATTALION CHIEF, (FIRE DEPARTMENT)              </td> <td>168692.66</td> <td>60847.56   </td> <td>21055.17 </td> <td>nan     </td> <td>250595  </td> <td>250595          </td> <td>2011</td> <td>nan  </td> <td>San Francisco</td> <td>nan   </td>\n",
              "        </tr>\n",
              "        <tr>\n",
              "            <td>42  </td> <td>THOMAS ABBOTT       </td> <td>BATTALION CHIEF, (FIRE DEPARTMENT)              </td> <td>168692.63</td> <td>59760.9    </td> <td>21954.96 </td> <td>nan     </td> <td>250408  </td> <td>250408          </td> <td>2011</td> <td>nan  </td> <td>San Francisco</td> <td>nan   </td>\n",
              "        </tr>\n",
              "        <tr>\n",
              "            <td>43  </td> <td>THOMAS SIRAGUSA     </td> <td>DEPUTY CHIEF OF DEPARTMENT,(FIRE DEPARTMENT)    </td> <td>218930.76</td> <td>4078.0     </td> <td>27330.59 </td> <td>nan     </td> <td>250339  </td> <td>250339          </td> <td>2011</td> <td>nan  </td> <td>San Francisco</td> <td>nan   </td>\n",
              "        </tr>\n",
              "        <tr>\n",
              "            <td>44  </td> <td>MICHAEL THOMPSON    </td> <td>FIREFIGHTER                                     </td> <td>123013.02</td> <td>111729.65  </td> <td>15575.26 </td> <td>nan     </td> <td>250318  </td> <td>250318          </td> <td>2011</td> <td>nan  </td> <td>San Francisco</td> <td>nan   </td>\n",
              "        </tr>\n",
              "        <tr>\n",
              "            <td>45  </td> <td>SHARON MCCOLE WICHER</td> <td>NURSING SUPERVISOR PSYCHIATRIC                  </td> <td>196081.86</td> <td>0.0        </td> <td>54040.18 </td> <td>nan     </td> <td>250122  </td> <td>250122          </td> <td>2011</td> <td>nan  </td> <td>San Francisco</td> <td>nan   </td>\n",
              "        </tr>\n",
              "        <tr>\n",
              "            <td>46  </td> <td>EDWIN LEE           </td> <td>MAYOR                                           </td> <td>249375.02</td> <td>0.0        </td> <td>0.0      </td> <td>nan     </td> <td>249375  </td> <td>249375          </td> <td>2011</td> <td>nan  </td> <td>San Francisco</td> <td>nan   </td>\n",
              "        </tr>\n",
              "        <tr>\n",
              "            <td>47  </td> <td>BRYAN RUBENSTEIN    </td> <td>BATTALION CHIEF, (FIRE DEPARTMENT)              </td> <td>168692.64</td> <td>66199.23   </td> <td>14401.43 </td> <td>nan     </td> <td>249293  </td> <td>249293          </td> <td>2011</td> <td>nan  </td> <td>San Francisco</td> <td>nan   </td>\n",
              "        </tr>\n",
              "        <tr>\n",
              "            <td>48  </td> <td>TRENT RHORER        </td> <td>DEPARTMENT HEAD V                               </td> <td>248895.77</td> <td>0.0        </td> <td>0.0      </td> <td>nan     </td> <td>248896  </td> <td>248896          </td> <td>2011</td> <td>nan  </td> <td>San Francisco</td> <td>nan   </td>\n",
              "        </tr>\n",
              "        <tr>\n",
              "            <td>49  </td> <td>JAMES DUDLEY        </td> <td>DEPUTY CHIEF III (POLICE DEPARTMENT)            </td> <td>233867.6 </td> <td>0.0        </td> <td>14851.04 </td> <td>nan     </td> <td>248719  </td> <td>248719          </td> <td>2011</td> <td>nan  </td> <td>San Francisco</td> <td>nan   </td>\n",
              "        </tr>\n",
              "        <tr>\n",
              "            <td>50  </td> <td>KEN YEE             </td> <td>LIEUTENANT, FIRE DEPARTMENT                     </td> <td>137729.92</td> <td>89856.01   </td> <td>20848.46 </td> <td>nan     </td> <td>248434  </td> <td>248434          </td> <td>2011</td> <td>nan  </td> <td>San Francisco</td> <td>nan   </td>\n",
              "        </tr>\n",
              "    </tbody>\n",
              "</table>\n",
              "<p>... (148604 rows omitted)</p>"
            ],
            "text/plain": [
              "<IPython.core.display.HTML object>"
            ]
          },
          "metadata": {
            "tags": []
          }
        }
      ]
    },
    {
      "cell_type": "code",
      "metadata": {
        "id": "kYmL1zREEUQV",
        "colab_type": "code",
        "colab": {
          "base_uri": "https://localhost:8080/",
          "height": 50
        },
        "outputId": "23e21f97-c46f-4f8c-c8d0-eec82f853062"
      },
      "source": [
        "More_Money=Money.column('OvertimePay')\n",
        "More_Money"
      ],
      "execution_count": null,
      "outputs": [
        {
          "output_type": "execute_result",
          "data": {
            "text/plain": [
              "array(['0.0', '245131.88', '106088.18', ..., 'Not Provided',\n",
              "       'Not Provided', '0.00'], dtype='<U32')"
            ]
          },
          "metadata": {
            "tags": []
          },
          "execution_count": 25
        }
      ]
    },
    {
      "cell_type": "code",
      "metadata": {
        "id": "FlQIabQZEwHo",
        "colab_type": "code",
        "colab": {
          "base_uri": "https://localhost:8080/",
          "height": 540
        },
        "outputId": "8f37a0eb-98fe-4e20-8c5b-7e560d5a1d63"
      },
      "source": [
        "sorted_more_money=Money.sort('OvertimePay')\n",
        "sorted_more_money"
      ],
      "execution_count": null,
      "outputs": [
        {
          "output_type": "execute_result",
          "data": {
            "text/html": [
              "<table border=\"1\" class=\"dataframe\">\n",
              "    <thead>\n",
              "        <tr>\n",
              "            <th>Id</th> <th>EmployeeName</th> <th>JobTitle</th> <th>BasePay</th> <th>OvertimePay</th> <th>OtherPay</th> <th>Benefits</th> <th>TotalPay</th> <th>TotalPayBenefits</th> <th>Year</th> <th>Notes</th> <th>Agency</th> <th>Status</th>\n",
              "        </tr>\n",
              "    </thead>\n",
              "    <tbody>\n",
              "        <tr>\n",
              "            <td>90715</td> <td>Claudia M Sanchez </td> <td>Senior Eligibility Worker                     </td> <td>75033.03 </td> <td>-0.01      </td> <td>1540.0   </td> <td>28864.64</td> <td>76573   </td> <td>105438          </td> <td>2013</td> <td>nan  </td> <td>San Francisco</td> <td>nan   </td>\n",
              "        </tr>\n",
              "        <tr>\n",
              "            <td>1    </td> <td>NATHANIEL FORD    </td> <td>GENERAL MANAGER-METROPOLITAN TRANSIT AUTHORITY</td> <td>167411.18</td> <td>0.0        </td> <td>400184.25</td> <td>nan     </td> <td>567595  </td> <td>567595          </td> <td>2011</td> <td>nan  </td> <td>San Francisco</td> <td>nan   </td>\n",
              "        </tr>\n",
              "        <tr>\n",
              "            <td>8    </td> <td>DAVID KUSHNER     </td> <td>DEPUTY DIRECTOR OF INVESTMENTS                </td> <td>256576.96</td> <td>0.0        </td> <td>51322.5  </td> <td>nan     </td> <td>307899  </td> <td>307899          </td> <td>2011</td> <td>nan  </td> <td>San Francisco</td> <td>nan   </td>\n",
              "        </tr>\n",
              "        <tr>\n",
              "            <td>10   </td> <td>JOANNE HAYES-WHITE</td> <td>CHIEF OF DEPARTMENT, (FIRE DEPARTMENT)        </td> <td>285262.0 </td> <td>0.0        </td> <td>17115.73 </td> <td>nan     </td> <td>302378  </td> <td>302378          </td> <td>2011</td> <td>nan  </td> <td>San Francisco</td> <td>nan   </td>\n",
              "        </tr>\n",
              "        <tr>\n",
              "            <td>13   </td> <td>EDWARD HARRINGTON </td> <td>EXECUTIVE CONTRACT EMPLOYEE                   </td> <td>294580.02</td> <td>0.0        </td> <td>0.0      </td> <td>nan     </td> <td>294580  </td> <td>294580          </td> <td>2011</td> <td>nan  </td> <td>San Francisco</td> <td>nan   </td>\n",
              "        </tr>\n",
              "        <tr>\n",
              "            <td>14   </td> <td>JOHN MARTIN       </td> <td>DEPARTMENT HEAD V                             </td> <td>271329.03</td> <td>0.0        </td> <td>21342.59 </td> <td>nan     </td> <td>292672  </td> <td>292672          </td> <td>2011</td> <td>nan  </td> <td>San Francisco</td> <td>nan   </td>\n",
              "        </tr>\n",
              "        <tr>\n",
              "            <td>17   </td> <td>AMY HART          </td> <td>DEPARTMENT HEAD V                             </td> <td>268604.57</td> <td>0.0        </td> <td>16115.86 </td> <td>nan     </td> <td>284720  </td> <td>284720          </td> <td>2011</td> <td>nan  </td> <td>San Francisco</td> <td>nan   </td>\n",
              "        </tr>\n",
              "        <tr>\n",
              "            <td>21   </td> <td>VENUS AZAR        </td> <td>ASSISTANT MEDICAL EXAMINER                    </td> <td>257510.48</td> <td>0.0        </td> <td>16679.79 </td> <td>nan     </td> <td>274190  </td> <td>274190          </td> <td>2011</td> <td>nan  </td> <td>San Francisco</td> <td>nan   </td>\n",
              "        </tr>\n",
              "        <tr>\n",
              "            <td>26   </td> <td>GREGORY SUHR      </td> <td>CHIEF OF POLICE                               </td> <td>256470.41</td> <td>0.0        </td> <td>11522.18 </td> <td>nan     </td> <td>267993  </td> <td>267993          </td> <td>2011</td> <td>nan  </td> <td>San Francisco</td> <td>nan   </td>\n",
              "        </tr>\n",
              "        <tr>\n",
              "            <td>29   </td> <td>DENISE SCHMITT    </td> <td>DEPUTY CHIEF III (POLICE DEPARTMENT)          </td> <td>261717.6 </td> <td>0.0        </td> <td>2357.0   </td> <td>nan     </td> <td>264075  </td> <td>264075          </td> <td>2011</td> <td>nan  </td> <td>San Francisco</td> <td>nan   </td>\n",
              "        </tr>\n",
              "    </tbody>\n",
              "</table>\n",
              "<p>... (148644 rows omitted)</p>"
            ],
            "text/plain": [
              "Id    | EmployeeName       | JobTitle                                       | BasePay   | OvertimePay | OtherPay  | Benefits | TotalPay | TotalPayBenefits | Year | Notes | Agency        | Status\n",
              "90715 | Claudia M Sanchez  | Senior Eligibility Worker                      | 75033.03  | -0.01       | 1540.0    | 28864.64 | 76573    | 105438           | 2013 | nan   | San Francisco | nan\n",
              "1     | NATHANIEL FORD     | GENERAL MANAGER-METROPOLITAN TRANSIT AUTHORITY | 167411.18 | 0.0         | 400184.25 | nan      | 567595   | 567595           | 2011 | nan   | San Francisco | nan\n",
              "8     | DAVID KUSHNER      | DEPUTY DIRECTOR OF INVESTMENTS                 | 256576.96 | 0.0         | 51322.5   | nan      | 307899   | 307899           | 2011 | nan   | San Francisco | nan\n",
              "10    | JOANNE HAYES-WHITE | CHIEF OF DEPARTMENT, (FIRE DEPARTMENT)         | 285262.0  | 0.0         | 17115.73  | nan      | 302378   | 302378           | 2011 | nan   | San Francisco | nan\n",
              "13    | EDWARD HARRINGTON  | EXECUTIVE CONTRACT EMPLOYEE                    | 294580.02 | 0.0         | 0.0       | nan      | 294580   | 294580           | 2011 | nan   | San Francisco | nan\n",
              "14    | JOHN MARTIN        | DEPARTMENT HEAD V                              | 271329.03 | 0.0         | 21342.59  | nan      | 292672   | 292672           | 2011 | nan   | San Francisco | nan\n",
              "17    | AMY HART           | DEPARTMENT HEAD V                              | 268604.57 | 0.0         | 16115.86  | nan      | 284720   | 284720           | 2011 | nan   | San Francisco | nan\n",
              "21    | VENUS AZAR         | ASSISTANT MEDICAL EXAMINER                     | 257510.48 | 0.0         | 16679.79  | nan      | 274190   | 274190           | 2011 | nan   | San Francisco | nan\n",
              "26    | GREGORY SUHR       | CHIEF OF POLICE                                | 256470.41 | 0.0         | 11522.18  | nan      | 267993   | 267993           | 2011 | nan   | San Francisco | nan\n",
              "29    | DENISE SCHMITT     | DEPUTY CHIEF III (POLICE DEPARTMENT)           | 261717.6  | 0.0         | 2357.0    | nan      | 264075   | 264075           | 2011 | nan   | San Francisco | nan\n",
              "... (148644 rows omitted)"
            ]
          },
          "metadata": {
            "tags": []
          },
          "execution_count": 26
        }
      ]
    },
    {
      "cell_type": "code",
      "metadata": {
        "id": "_QwheUS3Fmu6",
        "colab_type": "code",
        "colab": {
          "base_uri": "https://localhost:8080/",
          "height": 372
        },
        "outputId": "5b53d87b-f285-43da-d607-27ab741ad55a"
      },
      "source": [
        "sorted_more_money_2 = Money.sort('OvertimePay',descending=True)\n",
        "sorted_more_money_2"
      ],
      "execution_count": null,
      "outputs": [
        {
          "output_type": "execute_result",
          "data": {
            "text/html": [
              "<table border=\"1\" class=\"dataframe\">\n",
              "    <thead>\n",
              "        <tr>\n",
              "            <th>Id</th> <th>EmployeeName</th> <th>JobTitle</th> <th>BasePay</th> <th>OvertimePay</th> <th>OtherPay</th> <th>Benefits</th> <th>TotalPay</th> <th>TotalPayBenefits</th> <th>Year</th> <th>Notes</th> <th>Agency</th> <th>Status</th>\n",
              "        </tr>\n",
              "    </thead>\n",
              "    <tbody>\n",
              "        <tr>\n",
              "            <td>148653</td> <td>Not provided    </td> <td>Not provided            </td> <td>Not Provided</td> <td>Not Provided</td> <td>Not Provided</td> <td>Not Provided</td> <td>0       </td> <td>0               </td> <td>2014</td> <td>nan  </td> <td>San Francisco</td> <td>nan   </td>\n",
              "        </tr>\n",
              "        <tr>\n",
              "            <td>148652</td> <td>Not provided    </td> <td>Not provided            </td> <td>Not Provided</td> <td>Not Provided</td> <td>Not Provided</td> <td>Not Provided</td> <td>0       </td> <td>0               </td> <td>2014</td> <td>nan  </td> <td>San Francisco</td> <td>nan   </td>\n",
              "        </tr>\n",
              "        <tr>\n",
              "            <td>148651</td> <td>Not provided    </td> <td>Not provided            </td> <td>Not Provided</td> <td>Not Provided</td> <td>Not Provided</td> <td>Not Provided</td> <td>0       </td> <td>0               </td> <td>2014</td> <td>nan  </td> <td>San Francisco</td> <td>nan   </td>\n",
              "        </tr>\n",
              "        <tr>\n",
              "            <td>148647</td> <td>Not provided    </td> <td>Not provided            </td> <td>Not Provided</td> <td>Not Provided</td> <td>Not Provided</td> <td>Not Provided</td> <td>0       </td> <td>0               </td> <td>2014</td> <td>nan  </td> <td>San Francisco</td> <td>nan   </td>\n",
              "        </tr>\n",
              "        <tr>\n",
              "            <td>6294  </td> <td>MICHAEL EVANS   </td> <td>POLICE OFFICER I        </td> <td>99804.34    </td> <td>9999.83     </td> <td>7230.01     </td> <td>nan         </td> <td>117034  </td> <td>117034          </td> <td>2011</td> <td>nan  </td> <td>San Francisco</td> <td>nan   </td>\n",
              "        </tr>\n",
              "        <tr>\n",
              "            <td>56638 </td> <td>Amir Murcehajic </td> <td>Track Maintenance Worker</td> <td>53590.43    </td> <td>9999.41     </td> <td>2467.01     </td> <td>27227.34    </td> <td>66056.9 </td> <td>93284.2         </td> <td>2012</td> <td>nan  </td> <td>San Francisco</td> <td>nan   </td>\n",
              "        </tr>\n",
              "        <tr>\n",
              "            <td>5970  </td> <td>IFVON BALLARD   </td> <td>SENIOR DEPUTY SHERIFF   </td> <td>96254.45    </td> <td>9999.25     </td> <td>12616.95    </td> <td>nan         </td> <td>118871  </td> <td>118871          </td> <td>2011</td> <td>nan  </td> <td>San Francisco</td> <td>nan   </td>\n",
              "        </tr>\n",
              "        <tr>\n",
              "            <td>50985 </td> <td>Jack Knox       </td> <td>Transit Operator        </td> <td>65374.42    </td> <td>9999.12     </td> <td>1769.61     </td> <td>37290.58    </td> <td>77143.1 </td> <td>114434          </td> <td>2012</td> <td>nan  </td> <td>San Francisco</td> <td>nan   </td>\n",
              "        </tr>\n",
              "        <tr>\n",
              "            <td>125412</td> <td>Victoria G Swart</td> <td>Transit Operator        </td> <td>65849.52    </td> <td>9998.98     </td> <td>4599.35     </td> <td>35401.3     </td> <td>80447.9 </td> <td>115849          </td> <td>2014</td> <td>nan  </td> <td>San Francisco</td> <td>FT    </td>\n",
              "        </tr>\n",
              "        <tr>\n",
              "            <td>14265 </td> <td>IOSEFATU NUNU   </td> <td>TRANSIT OPERATOR        </td> <td>66673.28    </td> <td>9998.53     </td> <td>3891.43     </td> <td>nan         </td> <td>80563.2 </td> <td>80563.2         </td> <td>2011</td> <td>nan  </td> <td>San Francisco</td> <td>nan   </td>\n",
              "        </tr>\n",
              "    </tbody>\n",
              "</table>\n",
              "<p>... (148644 rows omitted)</p>"
            ],
            "text/plain": [
              "Id     | EmployeeName     | JobTitle                 | BasePay      | OvertimePay  | OtherPay     | Benefits     | TotalPay | TotalPayBenefits | Year | Notes | Agency        | Status\n",
              "148653 | Not provided     | Not provided             | Not Provided | Not Provided | Not Provided | Not Provided | 0        | 0                | 2014 | nan   | San Francisco | nan\n",
              "148652 | Not provided     | Not provided             | Not Provided | Not Provided | Not Provided | Not Provided | 0        | 0                | 2014 | nan   | San Francisco | nan\n",
              "148651 | Not provided     | Not provided             | Not Provided | Not Provided | Not Provided | Not Provided | 0        | 0                | 2014 | nan   | San Francisco | nan\n",
              "148647 | Not provided     | Not provided             | Not Provided | Not Provided | Not Provided | Not Provided | 0        | 0                | 2014 | nan   | San Francisco | nan\n",
              "6294   | MICHAEL EVANS    | POLICE OFFICER I         | 99804.34     | 9999.83      | 7230.01      | nan          | 117034   | 117034           | 2011 | nan   | San Francisco | nan\n",
              "56638  | Amir Murcehajic  | Track Maintenance Worker | 53590.43     | 9999.41      | 2467.01      | 27227.34     | 66056.9  | 93284.2          | 2012 | nan   | San Francisco | nan\n",
              "5970   | IFVON BALLARD    | SENIOR DEPUTY SHERIFF    | 96254.45     | 9999.25      | 12616.95     | nan          | 118871   | 118871           | 2011 | nan   | San Francisco | nan\n",
              "50985  | Jack Knox        | Transit Operator         | 65374.42     | 9999.12      | 1769.61      | 37290.58     | 77143.1  | 114434           | 2012 | nan   | San Francisco | nan\n",
              "125412 | Victoria G Swart | Transit Operator         | 65849.52     | 9998.98      | 4599.35      | 35401.3      | 80447.9  | 115849           | 2014 | nan   | San Francisco | FT\n",
              "14265  | IOSEFATU NUNU    | TRANSIT OPERATOR         | 66673.28     | 9998.53      | 3891.43      | nan          | 80563.2  | 80563.2          | 2011 | nan   | San Francisco | nan\n",
              "... (148644 rows omitted)"
            ]
          },
          "metadata": {
            "tags": []
          },
          "execution_count": 29
        }
      ]
    }
  ]
}