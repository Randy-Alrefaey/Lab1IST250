{
  "nbformat": 4,
  "nbformat_minor": 0,
  "metadata": {
    "colab": {
      "name": "Lab2IST250.ipynb",
      "provenance": [],
      "collapsed_sections": [],
      "include_colab_link": true
    },
    "kernelspec": {
      "name": "python3",
      "display_name": "Python 3"
    }
  },
  "cells": [
    {
      "cell_type": "markdown",
      "metadata": {
        "id": "view-in-github",
        "colab_type": "text"
      },
      "source": [
        "<a href=\"https://colab.research.google.com/github/Randy-Alrefaey/Lab1IST250/blob/master/Lab2IST250.ipynb\" target=\"_parent\"><img src=\"https://colab.research.google.com/assets/colab-badge.svg\" alt=\"Open In Colab\"/></a>"
      ]
    },
    {
      "cell_type": "markdown",
      "metadata": {
        "id": "6JgrRYtyWUTc",
        "colab_type": "text"
      },
      "source": [
        "# Ten Usability Heuristics\n",
        "\n",
        "### Developed by Jakob Nielsen"
      ]
    },
    {
      "cell_type": "markdown",
      "metadata": {
        "id": "ep30Q_iPWdnT",
        "colab_type": "text"
      },
      "source": [
        "For our lab, we will be evaluating the ten heuristics using the following webpage: \n",
        "\n",
        "- https://www.walmart.com/"
      ]
    },
    {
      "cell_type": "markdown",
      "metadata": {
        "id": "p1w1Wmt5WuFD",
        "colab_type": "text"
      },
      "source": [
        "### Visibility of system status\n",
        "The system should always keep users informed about what is going on, through appropriate feedback within reasonable time.\n",
        "\n",
        "Walmart.com does not meet the visibility of system status heuristic very well. It does not provide much feedback to the user to indicate that it register’s the user’s actions as most of the icons do not change on the screen when you mouse over them. Only the ‘categories’ section on the side underline the section labels as you mouse over them, but it is not very noticeable since other important categories are automatically underlined. They do not provide any status updates to the user after clicking on something new or making a request, nor do they validate most actions. Overall this heuristic is poorly achieved if at all.\n",
        "\n",
        "![Visibility](https://raw.githubusercontent.com/Randy-Alrefaey/Lab1IST250/master/ImagesIST250/1.jpg)"
      ]
    },
    {
      "cell_type": "markdown",
      "metadata": {
        "id": "gL-x1q02W1Vk",
        "colab_type": "text"
      },
      "source": [
        "### Match between system and the real world\n",
        "The system should speak the users' language, with words, phrases and concepts familiar to the user, rather than system-oriented terms. Follow real-world conventions, making information appear in a natural and logical order.\n",
        "\n",
        "![Match](https://raw.githubusercontent.com/Randy-Alrefaey/Lab1IST250/master/ImagesIST250/2.jpg)\n",
        "\n",
        "Walmart.com does a good job meeting this heuristic. It copies the format of several other popular shopping websites by having the account information and shopping cart available on the top right corner, the search bar in the middle, and possible shopping categories listed on the left. It has a clear headline to remind the user where they are, and a few pieces of information about the shopper so they can confirm their location, and item availability. They also showcase a large advertisement with bold colors and large headlines to grab the users attention and suggest where they should start shopping. However, it lacks clear directions for other possible shopping areas in the store like food or electronics. It also is not clear how the user can begin the shopping experience, as the ‘shop now’ button is rather small and obscure. Overall, Walmart did a good job at achieving this heuristic but still has areas to improve.\n"
      ]
    },
    {
      "cell_type": "markdown",
      "metadata": {
        "id": "p9WB5-rtZd9I",
        "colab_type": "text"
      },
      "source": [
        "### User control and freedom\n",
        "Users often choose system functions by mistake and will need a clearly marked \"emergency exit\" to leave the unwanted state without having to go through an extended dialogue. Support undo and redo.\n",
        "\n",
        "- ![UserControl](https://raw.githubusercontent.com/Randy-Alrefaey/Lab1IST250/master/ImagesIST250/3.jpg) \n",
        "\n",
        "Walmart.com does not do a good job achieving this heuristic. There are not many options to undo, cancel, escape, or go back to the previous page besides the standard arrows. When searching for an item, there is not an option to return to the search window or to edit your search if you want to change your results. This makes it intimidating to try new things or explore new areas of the website; with such a large selection it can be too frightening to try new things without supporting clear emergency exits. Additionally,  when adding something to your cart, they do not offer a cancel or undo button in case it was done accidentally. It is even difficult to figure out how to remove something from your cart that you no longer want. Overall, Walmart does not do a very good job at achieving this heuristic.\n"
      ]
    },
    {
      "cell_type": "markdown",
      "metadata": {
        "id": "lX7j0pZ8Zedg",
        "colab_type": "text"
      },
      "source": [
        "### Consistency and standards\n",
        "Users should not have to wonder whether different words, situations, or actions mean the same thing. Follow platform conventions.\n",
        "\n",
        "- ![Consitent](https://raw.githubusercontent.com/Randy-Alrefaey/Lab1IST250/master/ImagesIST250/4.JPG) \n",
        "\n",
        "Walmart.com meets the Consistency and Standards heuristic fairly well. It features pretty much everything a user would expect from an online shopping website: a shopping cart and user profile icon in the top right; a search bar at the top of the screen; links to other Walmart and walmart.com pages at the very bottom; search recommendations when the user clicks the search bar; and a hamburger menu in the top left with quick, online store-related links, such as “Track orders” and a store department listing.\n",
        "\n"
      ]
    },
    {
      "cell_type": "markdown",
      "metadata": {
        "id": "ER6ArHdmZfSI",
        "colab_type": "text"
      },
      "source": [
        "### Error prevention\n",
        "Even better than good error messages is a careful design which prevents a problem from occurring in the first place. Either eliminate error-prone conditions or check for them and present users with a confirmation option before they commit to the action.\n",
        "\n",
        "Walmart.com facilitates error prevention quite well. The search bar recommendations are designed to try to recognize what the user is trying to type in, even if they type it incorrectly. For example, typing “super mrio” instead of “super mario” will still give recommendations for Super Mario Bros. products. The zipcode-based locator function on the site also prevents users from typing in incorrect zipcodes\n",
        "\n",
        "![Error1](https://raw.githubusercontent.com/Randy-Alrefaey/Lab1IST250/master/ImagesIST250/5.JPG)\n",
        "\n",
        "![Error2](https://raw.githubusercontent.com/Randy-Alrefaey/Lab1IST250/master/ImagesIST250/6.JPG)"
      ]
    },
    {
      "cell_type": "markdown",
      "metadata": {
        "id": "9M3cqXkLZf7B",
        "colab_type": "text"
      },
      "source": [
        "### Recognition rather than recall\n",
        "Error messages should be expressed in plain language (no codes), precisely indicate the problem, and constructively suggest a solution.\n",
        "\n",
        "Walmart.com also implements the “Recognition rather than Recall” heuristic in its functionality and design. If the user has searched for something on the site before, that search will appear at the top of the search bar recommendations. Towards the bottom of the page, the user can see items that they looked at or bought recently. The user can also add items to their wishlist from the items’ pages, and they can then view the wishlist through the hamburger menu.\n",
        "\n",
        "![Recognition](https://raw.githubusercontent.com/Randy-Alrefaey/Lab1IST250/master/ImagesIST250/7.JPG)"
      ]
    },
    {
      "cell_type": "markdown",
      "metadata": {
        "id": "B4xOtXMWZgfp",
        "colab_type": "text"
      },
      "source": [
        "### Flexibility and efficiency of use \n",
        "Accelerators -- unseen by the novice user -- may often speed up the interaction for the expert user such that the system can cater to both inexperienced and experienced users. Allow users to tailor frequent actions.\n",
        "\n",
        "The walmart online store satisfies this heuristic by offering some form of flexibility to its customers. The shopping cart can be helpful for undecided consumers who are not yet sure if they want to buy an item or if they want to save something to buy later. Customers have the option to add items they like into the shopping cart and continue shopping afterwards. If they accidentally close the tab or forget what it is that they wanted, it will still show up in the shopping cart when they come back to the website. They also include a ‘reorder’ button if somebody wishes to buy an item that they had already purchased before which is more efficient for frequent customers.\n",
        "\n",
        "![Flexibility](https://raw.githubusercontent.com/Randy-Alrefaey/Lab1IST250/master/ImagesIST250/8.jpg)"
      ]
    },
    {
      "cell_type": "markdown",
      "metadata": {
        "id": "F968s-f-ZhGA",
        "colab_type": "text"
      },
      "source": [
        "### Aesthetic and minimalist design\n",
        "Dialogues should not contain information which is irrelevant or rarely needed. Every extra unit of information in a dialogue competes with the relevant units of information and diminishes their relative visibility.\n",
        "\n",
        "Walmart seems to have successfully implemented the “aesthetic and minimal design” heuristic. The website design does not distract customers from the products being sold with its minimalistic design using the classic blue color and white background. The website is easy on the eyes and is set up so the products stand out in the page which meets the aesthetic that you would expect from an online retail store.\n",
        "\n",
        "![Aethetic](https://raw.githubusercontent.com/Randy-Alrefaey/Lab1IST250/master/ImagesIST250/9.jpg)"
      ]
    },
    {
      "cell_type": "markdown",
      "metadata": {
        "id": "WFtkqJ8wZhjx",
        "colab_type": "text"
      },
      "source": [
        "### Help users recognize, diagnose, and recover from errors\n",
        "Error messages should be expressed in plain language (no codes), precisely indicate the problem, and constructively suggest a solution.\n",
        "\n",
        "Walmart's website does well in helping its users recognize and solve their problems whenever they encounter them. One example is when you attempt to order an item from your shopping cart but forget to put in all the shipping details they need. In the image below the errors are marked with red text when you try to skip to the next page but the shipping details are not filled out completely. They also do a good job of helping users correct this issue by offering solutions in the red text.\n",
        "\n",
        "![Help1](https://raw.githubusercontent.com/Randy-Alrefaey/Lab1IST250/master/ImagesIST250/10.jpg)\n",
        "\n",
        "Another way they help users with their problems is in the case of using too many search filters. In the image below, a price limit is set that is not available at their store so they display the error on top of the screen, and automatically correct the error without the need for the user to reset their price filter.\n",
        "\n",
        "![Help2](https://raw.githubusercontent.com/Randy-Alrefaey/Lab1IST250/master/ImagesIST250/11.jpg)\n"
      ]
    },
    {
      "cell_type": "markdown",
      "metadata": {
        "id": "x8_uAFYHZifo",
        "colab_type": "text"
      },
      "source": [
        "### Help and documentation\n",
        "Even though it is better if the system can be used without documentation, it may be necessary to provide help and documentation. Any such information should be easy to search, focused on the user's task, list concrete steps to be carried out, and not be too large.\n",
        "\n",
        "The help section of Walmart’s website can be a mixed bag depending on what users are looking for help with. If the user asks the usual questions that come with retail like “how to get a refund” or “where is my order”, then the help section can be useful by providing detailed steps on the process that the user needs help with. In the image below, you can see the Walmart help center which lists some of the common questions they receive on the front page. There is also an autofill when typing in the search bar if the user has trouble phrasing the questions.\n",
        "The problem with the Walmart help page is that it does not function well when being asked specific questions. If a user were to run into this problem where they cannot find an answer to their question, they would have to contact a Walmart store near them which is a hassle when they are trying to complete their transactions online.\n",
        "\n",
        "![Documentation](https://raw.githubusercontent.com/Randy-Alrefaey/Lab1IST250/master/ImagesIST250/12.JPG)\n"
      ]
    }
  ]
}