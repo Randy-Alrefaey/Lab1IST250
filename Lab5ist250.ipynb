{
  "nbformat": 4,
  "nbformat_minor": 0,
  "metadata": {
    "colab": {
      "name": "Lab5ist250.ipynb",
      "provenance": [],
      "collapsed_sections": [],
      "authorship_tag": "ABX9TyMH5iHekdoQsMderBKPPqaM",
      "include_colab_link": true
    },
    "kernelspec": {
      "name": "python3",
      "display_name": "Python 3"
    }
  },
  "cells": [
    {
      "cell_type": "markdown",
      "metadata": {
        "id": "view-in-github",
        "colab_type": "text"
      },
      "source": [
        "<a href=\"https://colab.research.google.com/github/Randy-Alrefaey/Lab1IST250/blob/master/Lab5ist250.ipynb\" target=\"_parent\"><img src=\"https://colab.research.google.com/assets/colab-badge.svg\" alt=\"Open In Colab\"/></a>"
      ]
    },
    {
      "cell_type": "code",
      "metadata": {
        "id": "R8ZzTQXtNBSw",
        "outputId": "37b01892-66d2-4940-a1dc-607c95ea173c",
        "colab": {
          "base_uri": "https://localhost:8080/",
          "height": 716
        }
      },
      "source": [
        "%%html\n",
        "<!doctype html>\n",
        "<html>\n",
        "<head>\n",
        "<meta charset=\"UTF-8\">\n",
        "<title>Lab5</title>\n",
        "<meta name=\"viewport\" content=\"width=device-width, initial-scale=1\">\n",
        "</head>\n",
        "\n",
        "<body>\n",
        "  <header>\n",
        "    <nav>\n",
        "    <ul>\n",
        "      <li><a href=\"\">Menu</a></li>\n",
        "      <li><a href=\"\">Austronauts</a></li>\n",
        "    </ul>\n",
        "  </nav> \n",
        "  <h1><img src=\"https://drive.google.com/file/d/1uBs5j4yn-ZWDakk9404Z_6eg1xK0qIml/view\" alt=\"Equipment\"></h1>\n",
        "  <p>Space Shuttle Discovery is Prepared for Launch</p>\n",
        "\n",
        "</header>\n",
        "\n",
        "<main>\n",
        "  <h2>Space Equipment</h2>\n",
        "  <h3>Breads</h3>\n",
        "  <p><img src=\"https://drive.google.com/u/0/uc?id=1L3PlJ3Mp3nJX5vuc-YbqVTHa-kURVD_Z\" alt=\"round loaf of bread on cutting board\"> Our breads are made daily from highest-quality whole grain flour, water, salt, and yeast or sourdough starter. Simply and naturally, and never any preservatives. Patience is key to achieving the proper level of fermentation and baking each loaf to perfection. Available in whole grain, sourdough, olive loaf, classic rye, and potato-onion.</p>\n",
        "  <p class=\"more\"><a href=\"\">Learn more about our baking process...</a></p>\n",
        "\n",
        "  <h3>Muffins</h3>\n",
        "  <p><img src=\"https://drive.google.com/u/0/uc?id=1VqxNrq3Go418ZujTjTepPXBVlPzGUIjw\" alt=\"one chocolate chip muffin\"> Every day, we offer a large selection of muffins, including blueberry, multi-berry, bran, corn, lemon-poppyseed, and chocolate. Our muffins are made from scratch each day. Stop by to see our seasonal muffin flavors!</p>\n",
        "  <p class=\"more\"><a href=\"\">Learn more about how we make our muffins...</a></p>\n",
        "</main>"
      ],
      "execution_count": 4,
      "outputs": [
        {
          "output_type": "display_data",
          "data": {
            "text/html": [
              "<!doctype html>\n",
              "<html>\n",
              "<head>\n",
              "<meta charset=\"UTF-8\">\n",
              "<title>Lab5</title>\n",
              "<meta name=\"viewport\" content=\"width=device-width, initial-scale=1\">\n",
              "</head>\n",
              "\n",
              "<body>\n",
              "  <header>\n",
              "    <nav>\n",
              "    <ul>\n",
              "      <li><a href=\"\">Menu</a></li>\n",
              "      <li><a href=\"\">Austronauts</a></li>\n",
              "    </ul>\n",
              "  </nav> \n",
              "  <h1><img src=\"https://drive.google.com/file/d/1uBs5j4yn-ZWDakk9404Z_6eg1xK0qIml/view\" alt=\"Equipment\"></h1>\n",
              "  <p>Space Shuttle Discovery is Prepared for Launch</p>\n",
              "\n",
              "</header>\n",
              "\n",
              "<main>\n",
              "  <h2>Space Equipment</h2>\n",
              "  <h3>Breads</h3>\n",
              "  <p><img src=\"https://drive.google.com/u/0/uc?id=1L3PlJ3Mp3nJX5vuc-YbqVTHa-kURVD_Z\" alt=\"round loaf of bread on cutting board\"> Our breads are made daily from highest-quality whole grain flour, water, salt, and yeast or sourdough starter. Simply and naturally, and never any preservatives. Patience is key to achieving the proper level of fermentation and baking each loaf to perfection. Available in whole grain, sourdough, olive loaf, classic rye, and potato-onion.</p>\n",
              "  <p class=\"more\"><a href=\"\">Learn more about our baking process...</a></p>\n",
              "\n",
              "  <h3>Muffins</h3>\n",
              "  <p><img src=\"https://drive.google.com/u/0/uc?id=1VqxNrq3Go418ZujTjTepPXBVlPzGUIjw\" alt=\"one chocolate chip muffin\"> Every day, we offer a large selection of muffins, including blueberry, multi-berry, bran, corn, lemon-poppyseed, and chocolate. Our muffins are made from scratch each day. Stop by to see our seasonal muffin flavors!</p>\n",
              "  <p class=\"more\"><a href=\"\">Learn more about how we make our muffins...</a></p>\n",
              "</main>"
            ],
            "text/plain": [
              "<IPython.core.display.HTML object>"
            ]
          },
          "metadata": {
            "tags": []
          }
        }
      ]
    }
  ]
}